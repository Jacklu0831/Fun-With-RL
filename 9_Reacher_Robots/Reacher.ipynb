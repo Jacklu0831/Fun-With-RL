{
  "cells": [
    {
      "cell_type": "markdown",
      "source": [
        "# DDPG Reacher Bots"
      ],
      "metadata": {}
    },
    {
      "cell_type": "markdown",
      "source": [
        "### 1. Start the Environment"
      ],
      "metadata": {}
    },
    {
      "cell_type": "code",
      "source": [
        "# install all dependencies\n",
        "# !pip -q install ./python"
      ],
      "outputs": [
        {
          "output_type": "stream",
          "name": "stdout",
          "text": [
            "\u001b[31mtensorflow 1.7.1 has requirement numpy>=1.13.3, but you'll have numpy 1.12.1 which is incompatible.\u001b[0m\r\n",
            "\u001b[31mipython 6.5.0 has requirement prompt-toolkit<2.0.0,>=1.0.15, but you'll have prompt-toolkit 2.0.9 which is incompatible.\u001b[0m\r\n"
          ]
        }
      ],
      "execution_count": 1,
      "metadata": {}
    },
    {
      "cell_type": "markdown",
      "source": [
        "If environment are not included in the repo, please visit https://github.com/Unity-Technologies/ml-agents for them."
      ],
      "metadata": {}
    },
    {
      "cell_type": "code",
      "source": [
        "import numpy as np\n",
        "from unityagents import UnityEnvironment\n",
        "\n",
        "# load 1 agent\n",
        "# env = UnityEnvironment(file_name='/data/Reacher_One_Linux_NoVis/Reacher_One_Linux_NoVis.x86_64')\n",
        "\n",
        "# load 20 agents\n",
        "env = UnityEnvironment(file_name='/data/Reacher_Linux_NoVis/Reacher.x86_64')"
      ],
      "outputs": [
        {
          "output_type": "stream",
          "name": "stderr",
          "text": [
            "INFO:unityagents:\n",
            "'Academy' started successfully!\n",
            "Unity Academy name: Academy\n",
            "        Number of Brains: 1\n",
            "        Number of External Brains : 1\n",
            "        Lesson number : 0\n",
            "        Reset Parameters :\n",
            "\t\tgoal_size -> 5.0\n",
            "\t\tgoal_speed -> 1.0\n",
            "Unity brain name: ReacherBrain\n",
            "        Number of Visual Observations (per agent): 0\n",
            "        Vector Observation space type: continuous\n",
            "        Vector Observation space size (per agent): 33\n",
            "        Number of stacked Vector Observation: 1\n",
            "        Vector Action space type: continuous\n",
            "        Vector Action space size (per agent): 4\n",
            "        Vector Action descriptions: , , , \n"
          ]
        }
      ],
      "execution_count": 2,
      "metadata": {}
    },
    {
      "cell_type": "code",
      "source": [
        "# get brain\n",
        "brain_name = env.brain_names[0]\n",
        "brain = env.brains[brain_name]"
      ],
      "outputs": [],
      "execution_count": 3,
      "metadata": {}
    },
    {
      "cell_type": "markdown",
      "source": [
        "### 2. Peek State and Action Spaces"
      ],
      "metadata": {}
    },
    {
      "cell_type": "code",
      "source": [
        "# reset environment\n",
        "env_info = env.reset(train_mode=True)[brain_name]\n",
        "\n",
        "# agent number\n",
        "num_agents = len(env_info.agents)\n",
        "print('Number of agents:', num_agents)\n",
        "\n",
        "# size of action space\n",
        "action_size = brain.vector_action_space_size\n",
        "print('Size of each action:', action_size)\n",
        "\n",
        "# examine state space \n",
        "states = env_info.vector_observations\n",
        "state_size = states.shape[1]\n",
        "print('There are {} agents. Each observes a state with length: {}'.format(states.shape[0], state_size))\n",
        "print('The state for the first agent looks like:', states[0])"
      ],
      "outputs": [
        {
          "output_type": "stream",
          "name": "stdout",
          "text": [
            "Number of agents: 20\n",
            "Size of each action: 4\n",
            "There are 20 agents. Each observes a state with length: 33\n",
            "The state for the first agent looks like: [  0.00000000e+00  -4.00000000e+00   0.00000000e+00   1.00000000e+00\n",
            "  -0.00000000e+00  -0.00000000e+00  -4.37113883e-08   0.00000000e+00\n",
            "   0.00000000e+00   0.00000000e+00   0.00000000e+00   0.00000000e+00\n",
            "   0.00000000e+00   0.00000000e+00  -1.00000000e+01   0.00000000e+00\n",
            "   1.00000000e+00  -0.00000000e+00  -0.00000000e+00  -4.37113883e-08\n",
            "   0.00000000e+00   0.00000000e+00   0.00000000e+00   0.00000000e+00\n",
            "   0.00000000e+00   0.00000000e+00   5.75471878e+00  -1.00000000e+00\n",
            "   5.55726624e+00   0.00000000e+00   1.00000000e+00   0.00000000e+00\n",
            "  -1.68164849e-01]\n"
          ]
        }
      ],
      "execution_count": 4,
      "metadata": {}
    },
    {
      "cell_type": "markdown",
      "source": [
        "### 3. Train the Agent with DDPG"
      ],
      "metadata": {}
    },
    {
      "cell_type": "code",
      "source": [
        "from agent import Agent\n",
        "from collections import deque\n",
        "import torch\n",
        "\n",
        "# init agent and reset env\n",
        "agent = Agent(33, 4, 0)\n",
        "env_info = env.reset(train_mode=True)[brain_name]"
      ],
      "outputs": [],
      "execution_count": 5,
      "metadata": {}
    },
    {
      "cell_type": "code",
      "source": [
        "def DDPG(n_episodes=300, max_t=300, print_every=1):\n",
        "    'Deep Deterministic Policy Gradient'\n",
        "    \n",
        "    # scores (deque for the recent 100 episodes, see benchmark requirements)\n",
        "    scores_deque = deque(maxlen=100)\n",
        "    scores = []\n",
        "    \n",
        "    for i_episode in range(1, n_episodes+1):\n",
        "        # reset env | get initial state | reset agent | initialize scores\n",
        "        env_info = env.reset(train_mode=True)[brain_name]\n",
        "        states = env_info.vector_observations\n",
        "        agent.reset()\n",
        "        score = np.zeros((20,))\n",
        "        \n",
        "        while True:\n",
        "            # get action | get env info | step/learn | get new states | get score\n",
        "            actions = agent.act(states)\n",
        "            env_info = env.step(actions)[brain_name]\n",
        "            next_states = env_info.vector_observations\n",
        "            rewards = env_info.rewards\n",
        "            dones = env_info.local_done\n",
        "            agent.step(states, actions, rewards, next_states, dones)\n",
        "            states = next_states\n",
        "            score += np.array(rewards)\n",
        "            if any(dones):\n",
        "                break \n",
        "                \n",
        "        # process score\n",
        "        scores_deque.append(np.mean(score))\n",
        "        scores.append(np.mean(score))\n",
        "        \n",
        "        # keep track if anything goes wrong\n",
        "        print('\\rEpisode {}\\tScore: {:.2f}\\tAverage Score: {:.2f}'.format(\n",
        "            i_episode, scores[-1], np.mean(scores_deque)))\n",
        "        \n",
        "        # save progress\n",
        "        torch.save(agent.actor_local.state_dict(), 'checkpoint_actor.pth')\n",
        "        torch.save(agent.critic_local.state_dict(), 'checkpoint_critic.pth')\n",
        "        \n",
        "        # benchmark met\n",
        "        if len(scores_deque) == 100 and np.mean(scores_deque) >= 30:\n",
        "            print('Yeet')\n",
        "            break\n",
        "            \n",
        "    return scores"
      ],
      "outputs": [],
      "execution_count": 6,
      "metadata": {}
    },
    {
      "cell_type": "code",
      "source": [
        "# train\n",
        "scores = DDPG()"
      ],
      "outputs": [
        {
          "output_type": "stream",
          "name": "stdout",
          "text": [
            "Episode 1\tScore: 0.19\tAverage Score: 0.19\n",
            "Episode 2\tScore: 0.02\tAverage Score: 0.10\n",
            "Episode 3\tScore: 0.14\tAverage Score: 0.11\n",
            "Episode 4\tScore: 0.03\tAverage Score: 0.09\n",
            "Episode 5\tScore: 1.13\tAverage Score: 0.30\n",
            "Episode 6\tScore: 1.47\tAverage Score: 0.50\n",
            "Episode 7\tScore: 2.40\tAverage Score: 0.77\n",
            "Episode 8\tScore: 3.12\tAverage Score: 1.06\n",
            "Episode 9\tScore: 3.65\tAverage Score: 1.35\n",
            "Episode 10\tScore: 4.13\tAverage Score: 1.63\n",
            "Episode 11\tScore: 7.69\tAverage Score: 2.18\n",
            "Episode 12\tScore: 10.81\tAverage Score: 2.90\n",
            "Episode 13\tScore: 11.89\tAverage Score: 3.59\n",
            "Episode 14\tScore: 13.78\tAverage Score: 4.32\n",
            "Episode 15\tScore: 15.82\tAverage Score: 5.09\n",
            "Episode 16\tScore: 16.72\tAverage Score: 5.81\n",
            "Episode 17\tScore: 16.73\tAverage Score: 6.45\n",
            "Episode 18\tScore: 18.28\tAverage Score: 7.11\n",
            "Episode 19\tScore: 17.73\tAverage Score: 7.67\n",
            "Episode 20\tScore: 17.65\tAverage Score: 8.17\n",
            "Episode 21\tScore: 18.12\tAverage Score: 8.64\n",
            "Episode 22\tScore: 19.91\tAverage Score: 9.16\n",
            "Episode 23\tScore: 22.28\tAverage Score: 9.73\n",
            "Episode 24\tScore: 22.52\tAverage Score: 10.26\n",
            "Episode 25\tScore: 22.40\tAverage Score: 10.75\n",
            "Episode 26\tScore: 23.56\tAverage Score: 11.24\n",
            "Episode 27\tScore: 24.87\tAverage Score: 11.74\n",
            "Episode 28\tScore: 23.92\tAverage Score: 12.18\n",
            "Episode 29\tScore: 23.86\tAverage Score: 12.58\n",
            "Episode 30\tScore: 25.40\tAverage Score: 13.01\n",
            "Episode 31\tScore: 23.63\tAverage Score: 13.35\n",
            "Episode 32\tScore: 25.56\tAverage Score: 13.73\n",
            "Episode 33\tScore: 26.79\tAverage Score: 14.13\n",
            "Episode 34\tScore: 26.62\tAverage Score: 14.50\n",
            "Episode 35\tScore: 24.01\tAverage Score: 14.77\n",
            "Episode 36\tScore: 24.23\tAverage Score: 15.03\n",
            "Episode 37\tScore: 24.12\tAverage Score: 15.28\n",
            "Episode 38\tScore: 24.50\tAverage Score: 15.52\n",
            "Episode 39\tScore: 24.39\tAverage Score: 15.75\n",
            "Episode 40\tScore: 23.63\tAverage Score: 15.94\n",
            "Episode 41\tScore: 26.49\tAverage Score: 16.20\n",
            "Episode 42\tScore: 25.45\tAverage Score: 16.42\n",
            "Episode 43\tScore: 27.73\tAverage Score: 16.68\n",
            "Episode 44\tScore: 27.69\tAverage Score: 16.93\n",
            "Episode 45\tScore: 26.70\tAverage Score: 17.15\n",
            "Episode 46\tScore: 27.21\tAverage Score: 17.37\n",
            "Episode 47\tScore: 26.96\tAverage Score: 17.57\n",
            "Episode 48\tScore: 26.99\tAverage Score: 17.77\n",
            "Episode 49\tScore: 25.98\tAverage Score: 17.94\n",
            "Episode 50\tScore: 28.04\tAverage Score: 18.14\n",
            "Episode 51\tScore: 26.07\tAverage Score: 18.29\n",
            "Episode 52\tScore: 28.03\tAverage Score: 18.48\n",
            "Episode 53\tScore: 25.46\tAverage Score: 18.61\n",
            "Episode 54\tScore: 25.51\tAverage Score: 18.74\n",
            "Episode 55\tScore: 23.30\tAverage Score: 18.82\n",
            "Episode 56\tScore: 25.76\tAverage Score: 18.95\n",
            "Episode 57\tScore: 26.26\tAverage Score: 19.08\n",
            "Episode 58\tScore: 26.38\tAverage Score: 19.20\n",
            "Episode 59\tScore: 25.48\tAverage Score: 19.31\n",
            "Episode 60\tScore: 27.19\tAverage Score: 19.44\n",
            "Episode 61\tScore: 26.82\tAverage Score: 19.56\n",
            "Episode 62\tScore: 26.01\tAverage Score: 19.66\n",
            "Episode 63\tScore: 24.91\tAverage Score: 19.75\n",
            "Episode 64\tScore: 25.74\tAverage Score: 19.84\n",
            "Episode 65\tScore: 29.06\tAverage Score: 19.98\n",
            "Episode 66\tScore: 27.02\tAverage Score: 20.09\n",
            "Episode 67\tScore: 27.83\tAverage Score: 20.21\n",
            "Episode 68\tScore: 25.77\tAverage Score: 20.29\n",
            "Episode 69\tScore: 27.99\tAverage Score: 20.40\n",
            "Episode 70\tScore: 24.73\tAverage Score: 20.46\n",
            "Episode 71\tScore: 25.63\tAverage Score: 20.53\n",
            "Episode 72\tScore: 25.88\tAverage Score: 20.61\n",
            "Episode 73\tScore: 27.10\tAverage Score: 20.70\n",
            "Episode 74\tScore: 29.10\tAverage Score: 20.81\n",
            "Episode 75\tScore: 28.82\tAverage Score: 20.92\n",
            "Episode 76\tScore: 26.82\tAverage Score: 21.00\n",
            "Episode 77\tScore: 29.57\tAverage Score: 21.11\n",
            "Episode 78\tScore: 28.52\tAverage Score: 21.20\n",
            "Episode 79\tScore: 28.41\tAverage Score: 21.29\n",
            "Episode 80\tScore: 28.17\tAverage Score: 21.38\n",
            "Episode 81\tScore: 25.32\tAverage Score: 21.43\n",
            "Episode 82\tScore: 27.62\tAverage Score: 21.50\n",
            "Episode 83\tScore: 30.29\tAverage Score: 21.61\n",
            "Episode 84\tScore: 30.31\tAverage Score: 21.71\n",
            "Episode 85\tScore: 30.58\tAverage Score: 21.82\n",
            "Episode 86\tScore: 30.33\tAverage Score: 21.92\n",
            "Episode 87\tScore: 29.13\tAverage Score: 22.00\n",
            "Episode 88\tScore: 29.73\tAverage Score: 22.09\n",
            "Episode 89\tScore: 31.98\tAverage Score: 22.20\n",
            "Episode 90\tScore: 31.78\tAverage Score: 22.30\n",
            "Episode 91\tScore: 28.09\tAverage Score: 22.37\n",
            "Episode 92\tScore: 28.13\tAverage Score: 22.43\n",
            "Episode 93\tScore: 30.23\tAverage Score: 22.51\n",
            "Episode 94\tScore: 30.06\tAverage Score: 22.59\n",
            "Episode 95\tScore: 30.23\tAverage Score: 22.67\n",
            "Episode 96\tScore: 27.18\tAverage Score: 22.72\n",
            "Episode 97\tScore: 27.88\tAverage Score: 22.77\n",
            "Episode 98\tScore: 27.87\tAverage Score: 22.83\n",
            "Episode 99\tScore: 31.75\tAverage Score: 22.92\n",
            "Episode 100\tScore: 30.07\tAverage Score: 22.99\n",
            "Episode 101\tScore: 28.41\tAverage Score: 23.27\n",
            "Episode 102\tScore: 31.22\tAverage Score: 23.58\n",
            "Episode 103\tScore: 30.82\tAverage Score: 23.89\n",
            "Episode 104\tScore: 31.89\tAverage Score: 24.21\n",
            "Episode 105\tScore: 31.84\tAverage Score: 24.52\n",
            "Episode 106\tScore: 29.89\tAverage Score: 24.80\n",
            "Episode 107\tScore: 30.48\tAverage Score: 25.08\n",
            "Episode 108\tScore: 30.84\tAverage Score: 25.36\n",
            "Episode 109\tScore: 29.80\tAverage Score: 25.62\n",
            "Episode 110\tScore: 28.68\tAverage Score: 25.86\n",
            "Episode 111\tScore: 27.96\tAverage Score: 26.07\n",
            "Episode 112\tScore: 31.68\tAverage Score: 26.28\n",
            "Episode 113\tScore: 32.27\tAverage Score: 26.48\n",
            "Episode 114\tScore: 35.09\tAverage Score: 26.69\n",
            "Episode 115\tScore: 29.30\tAverage Score: 26.83\n",
            "Episode 116\tScore: 33.04\tAverage Score: 26.99\n",
            "Episode 117\tScore: 33.05\tAverage Score: 27.15\n",
            "Episode 118\tScore: 35.81\tAverage Score: 27.33\n",
            "Episode 119\tScore: 31.00\tAverage Score: 27.46\n",
            "Episode 120\tScore: 33.26\tAverage Score: 27.62\n",
            "Episode 121\tScore: 34.72\tAverage Score: 27.78\n",
            "Episode 122\tScore: 35.87\tAverage Score: 27.94\n",
            "Episode 123\tScore: 34.24\tAverage Score: 28.06\n",
            "Episode 124\tScore: 31.20\tAverage Score: 28.15\n",
            "Episode 125\tScore: 25.36\tAverage Score: 28.18\n",
            "Episode 126\tScore: 32.71\tAverage Score: 28.27\n",
            "Episode 127\tScore: 34.53\tAverage Score: 28.37\n",
            "Episode 128\tScore: 34.12\tAverage Score: 28.47\n",
            "Episode 129\tScore: 32.47\tAverage Score: 28.56\n",
            "Episode 130\tScore: 33.83\tAverage Score: 28.64\n",
            "Episode 131\tScore: 29.47\tAverage Score: 28.70\n",
            "Episode 132\tScore: 29.30\tAverage Score: 28.74\n",
            "Episode 133\tScore: 29.99\tAverage Score: 28.77\n",
            "Episode 134\tScore: 34.67\tAverage Score: 28.85\n",
            "Episode 135\tScore: 35.07\tAverage Score: 28.96\n",
            "Episode 136\tScore: 31.13\tAverage Score: 29.03\n",
            "Episode 137\tScore: 34.06\tAverage Score: 29.13\n",
            "Episode 138\tScore: 33.34\tAverage Score: 29.22\n",
            "Episode 139\tScore: 33.28\tAverage Score: 29.30\n",
            "Episode 140\tScore: 33.70\tAverage Score: 29.41\n",
            "Episode 141\tScore: 33.05\tAverage Score: 29.47\n",
            "Episode 142\tScore: 34.70\tAverage Score: 29.56\n",
            "Episode 143\tScore: 35.80\tAverage Score: 29.64\n",
            "Episode 144\tScore: 36.25\tAverage Score: 29.73\n",
            "Episode 145\tScore: 35.76\tAverage Score: 29.82\n",
            "Episode 146\tScore: 35.00\tAverage Score: 29.90\n",
            "Episode 147\tScore: 32.11\tAverage Score: 29.95\n",
            "Episode 148\tScore: 33.76\tAverage Score: 30.02\n",
            "Yeet\n"
          ]
        }
      ],
      "execution_count": 7,
      "metadata": {}
    },
    {
      "cell_type": "code",
      "source": [
        "import matplotlib.pyplot as plt\n",
        "%matplotlib inline\n",
        "\n",
        "# plot scores\n",
        "fig = plt.figure()\n",
        "ax = fig.add_subplot(111)\n",
        "plt.plot(np.arange(len(scores)), scores)\n",
        "plt.ylabel('Score')\n",
        "plt.xlabel('Episode #')\n",
        "plt.show()\n",
        "\n",
        "# save scores\n",
        "fig.savefig('score.png')"
      ],
      "outputs": [
        {
          "output_type": "display_data",
          "data": {
            "image/png": "[encoded data removed]",
            "text/plain": [
              "<matplotlib.figure.Figure at 0x7fcc2539fd68>"
            ]
          },
          "metadata": {
            "needs_background": "light"
          }
        }
      ],
      "execution_count": 11,
      "metadata": {}
    },
    {
      "cell_type": "code",
      "source": [
        "# clean up\n",
        "env.close()"
      ],
      "outputs": [],
      "execution_count": 12,
      "metadata": {}
    },
    {
      "cell_type": "code",
      "source": [],
      "outputs": [],
      "execution_count": null,
      "metadata": {}
    }
  ],
  "metadata": {
    "kernelspec": {
      "name": "python3",
      "language": "python",
      "display_name": "Python 3"
    },
    "language_info": {
      "name": "python",
      "version": "3.7.3",
      "mimetype": "text/x-python",
      "codemirror_mode": {
        "name": "ipython",
        "version": 3
      },
      "pygments_lexer": "ipython3",
      "nbconvert_exporter": "python",
      "file_extension": ".py"
    },
    "kernel_info": {
      "name": "python3"
    },
    "nteract": {
      "version": "0.14.4"
    }
  },
  "nbformat": 4,
  "nbformat_minor": 2
}